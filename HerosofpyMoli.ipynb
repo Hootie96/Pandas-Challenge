{
 "cells": [
  {
   "cell_type": "code",
   "execution_count": 8,
   "metadata": {},
   "outputs": [],
   "source": [
    "import pandas as pd"
   ]
  },
  {
   "cell_type": "code",
   "execution_count": 9,
   "metadata": {},
   "outputs": [
    {
     "data": {
      "text/html": [
       "<div>\n",
       "<style scoped>\n",
       "    .dataframe tbody tr th:only-of-type {\n",
       "        vertical-align: middle;\n",
       "    }\n",
       "\n",
       "    .dataframe tbody tr th {\n",
       "        vertical-align: top;\n",
       "    }\n",
       "\n",
       "    .dataframe thead th {\n",
       "        text-align: right;\n",
       "    }\n",
       "</style>\n",
       "<table border=\"1\" class=\"dataframe\">\n",
       "  <thead>\n",
       "    <tr style=\"text-align: right;\">\n",
       "      <th></th>\n",
       "      <th>Purchase ID</th>\n",
       "      <th>SN</th>\n",
       "      <th>Age</th>\n",
       "      <th>Gender</th>\n",
       "      <th>Item ID</th>\n",
       "      <th>Item Name</th>\n",
       "      <th>Price</th>\n",
       "    </tr>\n",
       "  </thead>\n",
       "  <tbody>\n",
       "    <tr>\n",
       "      <th>0</th>\n",
       "      <td>0</td>\n",
       "      <td>Lisim78</td>\n",
       "      <td>20</td>\n",
       "      <td>Male</td>\n",
       "      <td>108</td>\n",
       "      <td>Extraction, Quickblade Of Trembling Hands</td>\n",
       "      <td>3.53</td>\n",
       "    </tr>\n",
       "    <tr>\n",
       "      <th>1</th>\n",
       "      <td>1</td>\n",
       "      <td>Lisovynya38</td>\n",
       "      <td>40</td>\n",
       "      <td>Male</td>\n",
       "      <td>143</td>\n",
       "      <td>Frenzied Scimitar</td>\n",
       "      <td>1.56</td>\n",
       "    </tr>\n",
       "    <tr>\n",
       "      <th>2</th>\n",
       "      <td>2</td>\n",
       "      <td>Ithergue48</td>\n",
       "      <td>24</td>\n",
       "      <td>Male</td>\n",
       "      <td>92</td>\n",
       "      <td>Final Critic</td>\n",
       "      <td>4.88</td>\n",
       "    </tr>\n",
       "    <tr>\n",
       "      <th>3</th>\n",
       "      <td>3</td>\n",
       "      <td>Chamassasya86</td>\n",
       "      <td>24</td>\n",
       "      <td>Male</td>\n",
       "      <td>100</td>\n",
       "      <td>Blindscythe</td>\n",
       "      <td>3.27</td>\n",
       "    </tr>\n",
       "    <tr>\n",
       "      <th>4</th>\n",
       "      <td>4</td>\n",
       "      <td>Iskosia90</td>\n",
       "      <td>23</td>\n",
       "      <td>Male</td>\n",
       "      <td>131</td>\n",
       "      <td>Fury</td>\n",
       "      <td>1.44</td>\n",
       "    </tr>\n",
       "  </tbody>\n",
       "</table>\n",
       "</div>"
      ],
      "text/plain": [
       "   Purchase ID             SN  Age Gender  Item ID  \\\n",
       "0            0        Lisim78   20   Male      108   \n",
       "1            1    Lisovynya38   40   Male      143   \n",
       "2            2     Ithergue48   24   Male       92   \n",
       "3            3  Chamassasya86   24   Male      100   \n",
       "4            4      Iskosia90   23   Male      131   \n",
       "\n",
       "                                   Item Name  Price  \n",
       "0  Extraction, Quickblade Of Trembling Hands   3.53  \n",
       "1                          Frenzied Scimitar   1.56  \n",
       "2                               Final Critic   4.88  \n",
       "3                                Blindscythe   3.27  \n",
       "4                                       Fury   1.44  "
      ]
     },
     "execution_count": 9,
     "metadata": {},
     "output_type": "execute_result"
    }
   ],
   "source": [
    "sales_data = r\"C:\\Users\\Kaleb\\Pandas-Challenge\\HeroesOfPymoli\\Resources\\purchase_data.csv\"\n",
    "pyMoli_df = pd.read_csv(sales_data)\n",
    "pyMoli_df.head()\n",
    "#show data set"
   ]
  },
  {
   "cell_type": "code",
   "execution_count": 10,
   "metadata": {},
   "outputs": [],
   "source": [
    "player_demographics = pyMoli_df.loc[:,[\"SN\", \"Age\", \"Gender\"]]\n",
    "#filter by SN, Age, and Gender"
   ]
  },
  {
   "cell_type": "code",
   "execution_count": 11,
   "metadata": {},
   "outputs": [
    {
     "data": {
      "text/html": [
       "<div>\n",
       "<style scoped>\n",
       "    .dataframe tbody tr th:only-of-type {\n",
       "        vertical-align: middle;\n",
       "    }\n",
       "\n",
       "    .dataframe tbody tr th {\n",
       "        vertical-align: top;\n",
       "    }\n",
       "\n",
       "    .dataframe thead th {\n",
       "        text-align: right;\n",
       "    }\n",
       "</style>\n",
       "<table border=\"1\" class=\"dataframe\">\n",
       "  <thead>\n",
       "    <tr style=\"text-align: right;\">\n",
       "      <th></th>\n",
       "      <th>SN</th>\n",
       "      <th>Age</th>\n",
       "      <th>Gender</th>\n",
       "    </tr>\n",
       "  </thead>\n",
       "  <tbody>\n",
       "    <tr>\n",
       "      <th>0</th>\n",
       "      <td>Lisim78</td>\n",
       "      <td>20</td>\n",
       "      <td>Male</td>\n",
       "    </tr>\n",
       "    <tr>\n",
       "      <th>1</th>\n",
       "      <td>Lisovynya38</td>\n",
       "      <td>40</td>\n",
       "      <td>Male</td>\n",
       "    </tr>\n",
       "    <tr>\n",
       "      <th>2</th>\n",
       "      <td>Ithergue48</td>\n",
       "      <td>24</td>\n",
       "      <td>Male</td>\n",
       "    </tr>\n",
       "    <tr>\n",
       "      <th>3</th>\n",
       "      <td>Chamassasya86</td>\n",
       "      <td>24</td>\n",
       "      <td>Male</td>\n",
       "    </tr>\n",
       "    <tr>\n",
       "      <th>4</th>\n",
       "      <td>Iskosia90</td>\n",
       "      <td>23</td>\n",
       "      <td>Male</td>\n",
       "    </tr>\n",
       "  </tbody>\n",
       "</table>\n",
       "</div>"
      ],
      "text/plain": [
       "              SN  Age Gender\n",
       "0        Lisim78   20   Male\n",
       "1    Lisovynya38   40   Male\n",
       "2     Ithergue48   24   Male\n",
       "3  Chamassasya86   24   Male\n",
       "4      Iskosia90   23   Male"
      ]
     },
     "execution_count": 11,
     "metadata": {},
     "output_type": "execute_result"
    }
   ],
   "source": [
    "player_demographics.head()"
   ]
  },
  {
   "cell_type": "code",
   "execution_count": 12,
   "metadata": {},
   "outputs": [
    {
     "data": {
      "text/html": [
       "<div>\n",
       "<style scoped>\n",
       "    .dataframe tbody tr th:only-of-type {\n",
       "        vertical-align: middle;\n",
       "    }\n",
       "\n",
       "    .dataframe tbody tr th {\n",
       "        vertical-align: top;\n",
       "    }\n",
       "\n",
       "    .dataframe thead th {\n",
       "        text-align: right;\n",
       "    }\n",
       "</style>\n",
       "<table border=\"1\" class=\"dataframe\">\n",
       "  <thead>\n",
       "    <tr style=\"text-align: right;\">\n",
       "      <th></th>\n",
       "      <th>SN</th>\n",
       "      <th>Age</th>\n",
       "      <th>Gender</th>\n",
       "    </tr>\n",
       "  </thead>\n",
       "  <tbody>\n",
       "    <tr>\n",
       "      <th>0</th>\n",
       "      <td>Lisim78</td>\n",
       "      <td>20</td>\n",
       "      <td>Male</td>\n",
       "    </tr>\n",
       "    <tr>\n",
       "      <th>1</th>\n",
       "      <td>Lisovynya38</td>\n",
       "      <td>40</td>\n",
       "      <td>Male</td>\n",
       "    </tr>\n",
       "    <tr>\n",
       "      <th>2</th>\n",
       "      <td>Ithergue48</td>\n",
       "      <td>24</td>\n",
       "      <td>Male</td>\n",
       "    </tr>\n",
       "    <tr>\n",
       "      <th>3</th>\n",
       "      <td>Chamassasya86</td>\n",
       "      <td>24</td>\n",
       "      <td>Male</td>\n",
       "    </tr>\n",
       "    <tr>\n",
       "      <th>4</th>\n",
       "      <td>Iskosia90</td>\n",
       "      <td>23</td>\n",
       "      <td>Male</td>\n",
       "    </tr>\n",
       "  </tbody>\n",
       "</table>\n",
       "</div>"
      ],
      "text/plain": [
       "              SN  Age Gender\n",
       "0        Lisim78   20   Male\n",
       "1    Lisovynya38   40   Male\n",
       "2     Ithergue48   24   Male\n",
       "3  Chamassasya86   24   Male\n",
       "4      Iskosia90   23   Male"
      ]
     },
     "execution_count": 12,
     "metadata": {},
     "output_type": "execute_result"
    }
   ],
   "source": [
    "player_demographics = player_demographics.drop_duplicates()\n",
    "player_demographics.head()\n",
    "# drop duplicates for unique dataset"
   ]
  },
  {
   "cell_type": "code",
   "execution_count": 13,
   "metadata": {},
   "outputs": [],
   "source": [
    "#count dataset\n",
    "player_count = player_demographics.count()[0]"
   ]
  },
  {
   "cell_type": "code",
   "execution_count": 14,
   "metadata": {},
   "outputs": [
    {
     "data": {
      "text/plain": [
       "576"
      ]
     },
     "execution_count": 14,
     "metadata": {},
     "output_type": "execute_result"
    }
   ],
   "source": [
    "player_count"
   ]
  },
  {
   "cell_type": "code",
   "execution_count": 41,
   "metadata": {},
   "outputs": [
    {
     "data": {
      "text/html": [
       "<style  type=\"text/css\" >\n",
       "</style><table id=\"T_c88742a1_0908_11eb_9bb2_d46e0e11e4f5\" ><thead>    <tr>        <th class=\"blank level0\" ></th>        <th class=\"col_heading level0 col0\" >Number of Unique Items</th>        <th class=\"col_heading level0 col1\" >Average Price</th>        <th class=\"col_heading level0 col2\" >Total Purchases</th>        <th class=\"col_heading level0 col3\" >Total Revenue</th>    </tr></thead><tbody>\n",
       "                <tr>\n",
       "                        <th id=\"T_c88742a1_0908_11eb_9bb2_d46e0e11e4f5level0_row0\" class=\"row_heading level0 row0\" >0</th>\n",
       "                        <td id=\"T_c88742a1_0908_11eb_9bb2_d46e0e11e4f5row0_col0\" class=\"data row0 col0\" >179</td>\n",
       "                        <td id=\"T_c88742a1_0908_11eb_9bb2_d46e0e11e4f5row0_col1\" class=\"data row0 col1\" >$3.05</td>\n",
       "                        <td id=\"T_c88742a1_0908_11eb_9bb2_d46e0e11e4f5row0_col2\" class=\"data row0 col2\" >780</td>\n",
       "                        <td id=\"T_c88742a1_0908_11eb_9bb2_d46e0e11e4f5row0_col3\" class=\"data row0 col3\" >$2,379.77</td>\n",
       "            </tr>\n",
       "    </tbody></table>"
      ],
      "text/plain": [
       "<pandas.io.formats.style.Styler at 0x1f3aec21e80>"
      ]
     },
     "execution_count": 41,
     "metadata": {},
     "output_type": "execute_result"
    }
   ],
   "source": [
    "#find totals for purchase analysis\n",
    "unique_items = len(pyMoli_df[\"Item ID\"].unique())\n",
    "average_price = pyMoli_df[\"Price\"].mean()\n",
    "total_purchases = pyMoli_df[\"Purchase ID\"].count()\n",
    "total_revenue = pyMoli_df[\"Price\"].sum()\n",
    "summary_table_purchases = pd.DataFrame({ \"Number of Unique Items\": [unique_items],\n",
    "                                       \"Average Price\": [average_price],\n",
    "                                       \"Total Purchases\": [total_purchases],\n",
    "                                       \"Total Revenue\": [total_revenue],\n",
    "                                       })\n",
    "\n",
    "summary_table_purchases.style.format({\"Average Price\": \"${:,.2f}\",\n",
    "                                \"Total Revenue\": \"${:,.2f}\"})"
   ]
  },
  {
   "cell_type": "code",
   "execution_count": 43,
   "metadata": {},
   "outputs": [
    {
     "data": {
      "text/html": [
       "<style  type=\"text/css\" >\n",
       "</style><table id=\"T_faebcd15_0908_11eb_8402_d46e0e11e4f5\" ><thead>    <tr>        <th class=\"blank level0\" ></th>        <th class=\"col_heading level0 col0\" >Total Count</th>        <th class=\"col_heading level0 col1\" >Percentage of Players</th>    </tr></thead><tbody>\n",
       "                <tr>\n",
       "                        <th id=\"T_faebcd15_0908_11eb_8402_d46e0e11e4f5level0_row0\" class=\"row_heading level0 row0\" >Male</th>\n",
       "                        <td id=\"T_faebcd15_0908_11eb_8402_d46e0e11e4f5row0_col0\" class=\"data row0 col0\" >484</td>\n",
       "                        <td id=\"T_faebcd15_0908_11eb_8402_d46e0e11e4f5row0_col1\" class=\"data row0 col1\" >84.03%</td>\n",
       "            </tr>\n",
       "            <tr>\n",
       "                        <th id=\"T_faebcd15_0908_11eb_8402_d46e0e11e4f5level0_row1\" class=\"row_heading level0 row1\" >Female</th>\n",
       "                        <td id=\"T_faebcd15_0908_11eb_8402_d46e0e11e4f5row1_col0\" class=\"data row1 col0\" >81</td>\n",
       "                        <td id=\"T_faebcd15_0908_11eb_8402_d46e0e11e4f5row1_col1\" class=\"data row1 col1\" >14.06%</td>\n",
       "            </tr>\n",
       "            <tr>\n",
       "                        <th id=\"T_faebcd15_0908_11eb_8402_d46e0e11e4f5level0_row2\" class=\"row_heading level0 row2\" >Other / Non-Disclosed</th>\n",
       "                        <td id=\"T_faebcd15_0908_11eb_8402_d46e0e11e4f5row2_col0\" class=\"data row2 col0\" >11</td>\n",
       "                        <td id=\"T_faebcd15_0908_11eb_8402_d46e0e11e4f5row2_col1\" class=\"data row2 col1\" >1.91%</td>\n",
       "            </tr>\n",
       "    </tbody></table>"
      ],
      "text/plain": [
       "<pandas.io.formats.style.Styler at 0x1f3aec345e0>"
      ]
     },
     "execution_count": 43,
     "metadata": {},
     "output_type": "execute_result"
    }
   ],
   "source": [
    "#gender count and percentage\n",
    "gender_count = player_demographics[\"Gender\"].value_counts()\n",
    "gender_percentage = gender_count/player_count*100\n",
    "gender_count\n",
    "summary_table_gender = pd.DataFrame({ \"Total Count\": gender_count,\n",
    "                                    \"Percentage of Players\": gender_percentage\n",
    "                                    })\n",
    "summary_table_gender.style.format({ \"Percentage of Players\": \"{:,.2f}%\"\n",
    "                                    })"
   ]
  },
  {
   "cell_type": "code",
   "execution_count": 44,
   "metadata": {},
   "outputs": [
    {
     "data": {
      "text/html": [
       "<style  type=\"text/css\" >\n",
       "</style><table id=\"T_01870ef8_0909_11eb_b26e_d46e0e11e4f5\" ><thead>    <tr>        <th class=\"blank level0\" ></th>        <th class=\"col_heading level0 col0\" >Percentage of Players</th>        <th class=\"col_heading level0 col1\" >Total Count</th>    </tr></thead><tbody>\n",
       "                <tr>\n",
       "                        <th id=\"T_01870ef8_0909_11eb_b26e_d46e0e11e4f5level0_row0\" class=\"row_heading level0 row0\" ><10</th>\n",
       "                        <td id=\"T_01870ef8_0909_11eb_b26e_d46e0e11e4f5row0_col0\" class=\"data row0 col0\" >2.95%</td>\n",
       "                        <td id=\"T_01870ef8_0909_11eb_b26e_d46e0e11e4f5row0_col1\" class=\"data row0 col1\" >17</td>\n",
       "            </tr>\n",
       "            <tr>\n",
       "                        <th id=\"T_01870ef8_0909_11eb_b26e_d46e0e11e4f5level0_row1\" class=\"row_heading level0 row1\" >10-14</th>\n",
       "                        <td id=\"T_01870ef8_0909_11eb_b26e_d46e0e11e4f5row1_col0\" class=\"data row1 col0\" >3.82%</td>\n",
       "                        <td id=\"T_01870ef8_0909_11eb_b26e_d46e0e11e4f5row1_col1\" class=\"data row1 col1\" >22</td>\n",
       "            </tr>\n",
       "            <tr>\n",
       "                        <th id=\"T_01870ef8_0909_11eb_b26e_d46e0e11e4f5level0_row2\" class=\"row_heading level0 row2\" >15-19</th>\n",
       "                        <td id=\"T_01870ef8_0909_11eb_b26e_d46e0e11e4f5row2_col0\" class=\"data row2 col0\" >18.58%</td>\n",
       "                        <td id=\"T_01870ef8_0909_11eb_b26e_d46e0e11e4f5row2_col1\" class=\"data row2 col1\" >107</td>\n",
       "            </tr>\n",
       "            <tr>\n",
       "                        <th id=\"T_01870ef8_0909_11eb_b26e_d46e0e11e4f5level0_row3\" class=\"row_heading level0 row3\" >20-24</th>\n",
       "                        <td id=\"T_01870ef8_0909_11eb_b26e_d46e0e11e4f5row3_col0\" class=\"data row3 col0\" >44.79%</td>\n",
       "                        <td id=\"T_01870ef8_0909_11eb_b26e_d46e0e11e4f5row3_col1\" class=\"data row3 col1\" >258</td>\n",
       "            </tr>\n",
       "            <tr>\n",
       "                        <th id=\"T_01870ef8_0909_11eb_b26e_d46e0e11e4f5level0_row4\" class=\"row_heading level0 row4\" >25-29</th>\n",
       "                        <td id=\"T_01870ef8_0909_11eb_b26e_d46e0e11e4f5row4_col0\" class=\"data row4 col0\" >13.37%</td>\n",
       "                        <td id=\"T_01870ef8_0909_11eb_b26e_d46e0e11e4f5row4_col1\" class=\"data row4 col1\" >77</td>\n",
       "            </tr>\n",
       "            <tr>\n",
       "                        <th id=\"T_01870ef8_0909_11eb_b26e_d46e0e11e4f5level0_row5\" class=\"row_heading level0 row5\" >30-34</th>\n",
       "                        <td id=\"T_01870ef8_0909_11eb_b26e_d46e0e11e4f5row5_col0\" class=\"data row5 col0\" >9.03%</td>\n",
       "                        <td id=\"T_01870ef8_0909_11eb_b26e_d46e0e11e4f5row5_col1\" class=\"data row5 col1\" >52</td>\n",
       "            </tr>\n",
       "            <tr>\n",
       "                        <th id=\"T_01870ef8_0909_11eb_b26e_d46e0e11e4f5level0_row6\" class=\"row_heading level0 row6\" >35-39</th>\n",
       "                        <td id=\"T_01870ef8_0909_11eb_b26e_d46e0e11e4f5row6_col0\" class=\"data row6 col0\" >5.38%</td>\n",
       "                        <td id=\"T_01870ef8_0909_11eb_b26e_d46e0e11e4f5row6_col1\" class=\"data row6 col1\" >31</td>\n",
       "            </tr>\n",
       "            <tr>\n",
       "                        <th id=\"T_01870ef8_0909_11eb_b26e_d46e0e11e4f5level0_row7\" class=\"row_heading level0 row7\" >40+</th>\n",
       "                        <td id=\"T_01870ef8_0909_11eb_b26e_d46e0e11e4f5row7_col0\" class=\"data row7 col0\" >2.08%</td>\n",
       "                        <td id=\"T_01870ef8_0909_11eb_b26e_d46e0e11e4f5row7_col1\" class=\"data row7 col1\" >12</td>\n",
       "            </tr>\n",
       "    </tbody></table>"
      ],
      "text/plain": [
       "<pandas.io.formats.style.Styler at 0x1f3adbc02e0>"
      ]
     },
     "execution_count": 44,
     "metadata": {},
     "output_type": "execute_result"
    }
   ],
   "source": [
    "#Age Demographics\n",
    "age_bins = [0, 9.90, 14.90, 19.90, 24.90, 29.90, 34.90, 39.90, 99999]\n",
    "group_names = [\"<10\", \"10-14\", \"15-19\", \"20-24\", \"25-29\", \"30-34\", \"35-39\", \"40+\"]\n",
    "\n",
    "\n",
    "pyMoli_df[\"Age Group\"] = pd.cut(pyMoli_df[\"Age\"],age_bins, labels=group_names)\n",
    "pyMoli_df\n",
    "\n",
    "\n",
    "age_grouped = pyMoli_df.groupby(\"Age Group\")\n",
    "\n",
    "\n",
    "total_count_age = age_grouped[\"SN\"].nunique()\n",
    "\n",
    "\n",
    "percentage_by_age = (total_count_age/player_count) * 100\n",
    "\n",
    "\n",
    "age_demographics = pd.DataFrame({\"Percentage of Players\": percentage_by_age, \"Total Count\": total_count_age})\n",
    "\n",
    "\n",
    "age_demographics.index.name = None\n",
    "\n",
    "\n",
    "age_demographics.style.format({\"Percentage of Players\":\"{:,.2f}%\"})\n",
    "\n"
   ]
  },
  {
   "cell_type": "code",
   "execution_count": 45,
   "metadata": {},
   "outputs": [
    {
     "data": {
      "text/html": [
       "<style  type=\"text/css\" >\n",
       "</style><table id=\"T_2fa3a8c0_0909_11eb_ab08_d46e0e11e4f5\" ><thead>    <tr>        <th class=\"blank level0\" ></th>        <th class=\"col_heading level0 col0\" >Purchase Count</th>        <th class=\"col_heading level0 col1\" >Average Purchase Price</th>        <th class=\"col_heading level0 col2\" >Total Purchase Value</th>        <th class=\"col_heading level0 col3\" >Average Total Purchase per Person</th>    </tr></thead><tbody>\n",
       "                <tr>\n",
       "                        <th id=\"T_2fa3a8c0_0909_11eb_ab08_d46e0e11e4f5level0_row0\" class=\"row_heading level0 row0\" ><10</th>\n",
       "                        <td id=\"T_2fa3a8c0_0909_11eb_ab08_d46e0e11e4f5row0_col0\" class=\"data row0 col0\" >23</td>\n",
       "                        <td id=\"T_2fa3a8c0_0909_11eb_ab08_d46e0e11e4f5row0_col1\" class=\"data row0 col1\" >$3.35</td>\n",
       "                        <td id=\"T_2fa3a8c0_0909_11eb_ab08_d46e0e11e4f5row0_col2\" class=\"data row0 col2\" >$77.13</td>\n",
       "                        <td id=\"T_2fa3a8c0_0909_11eb_ab08_d46e0e11e4f5row0_col3\" class=\"data row0 col3\" >13.390625</td>\n",
       "            </tr>\n",
       "            <tr>\n",
       "                        <th id=\"T_2fa3a8c0_0909_11eb_ab08_d46e0e11e4f5level0_row1\" class=\"row_heading level0 row1\" >10-14</th>\n",
       "                        <td id=\"T_2fa3a8c0_0909_11eb_ab08_d46e0e11e4f5row1_col0\" class=\"data row1 col0\" >28</td>\n",
       "                        <td id=\"T_2fa3a8c0_0909_11eb_ab08_d46e0e11e4f5row1_col1\" class=\"data row1 col1\" >$2.96</td>\n",
       "                        <td id=\"T_2fa3a8c0_0909_11eb_ab08_d46e0e11e4f5row1_col2\" class=\"data row1 col2\" >$82.78</td>\n",
       "                        <td id=\"T_2fa3a8c0_0909_11eb_ab08_d46e0e11e4f5row1_col3\" class=\"data row1 col3\" >14.371528</td>\n",
       "            </tr>\n",
       "            <tr>\n",
       "                        <th id=\"T_2fa3a8c0_0909_11eb_ab08_d46e0e11e4f5level0_row2\" class=\"row_heading level0 row2\" >15-19</th>\n",
       "                        <td id=\"T_2fa3a8c0_0909_11eb_ab08_d46e0e11e4f5row2_col0\" class=\"data row2 col0\" >136</td>\n",
       "                        <td id=\"T_2fa3a8c0_0909_11eb_ab08_d46e0e11e4f5row2_col1\" class=\"data row2 col1\" >$3.04</td>\n",
       "                        <td id=\"T_2fa3a8c0_0909_11eb_ab08_d46e0e11e4f5row2_col2\" class=\"data row2 col2\" >$412.89</td>\n",
       "                        <td id=\"T_2fa3a8c0_0909_11eb_ab08_d46e0e11e4f5row2_col3\" class=\"data row2 col3\" >71.682292</td>\n",
       "            </tr>\n",
       "            <tr>\n",
       "                        <th id=\"T_2fa3a8c0_0909_11eb_ab08_d46e0e11e4f5level0_row3\" class=\"row_heading level0 row3\" >20-24</th>\n",
       "                        <td id=\"T_2fa3a8c0_0909_11eb_ab08_d46e0e11e4f5row3_col0\" class=\"data row3 col0\" >365</td>\n",
       "                        <td id=\"T_2fa3a8c0_0909_11eb_ab08_d46e0e11e4f5row3_col1\" class=\"data row3 col1\" >$3.05</td>\n",
       "                        <td id=\"T_2fa3a8c0_0909_11eb_ab08_d46e0e11e4f5row3_col2\" class=\"data row3 col2\" >$1,114.06</td>\n",
       "                        <td id=\"T_2fa3a8c0_0909_11eb_ab08_d46e0e11e4f5row3_col3\" class=\"data row3 col3\" >193.413194</td>\n",
       "            </tr>\n",
       "            <tr>\n",
       "                        <th id=\"T_2fa3a8c0_0909_11eb_ab08_d46e0e11e4f5level0_row4\" class=\"row_heading level0 row4\" >25-29</th>\n",
       "                        <td id=\"T_2fa3a8c0_0909_11eb_ab08_d46e0e11e4f5row4_col0\" class=\"data row4 col0\" >101</td>\n",
       "                        <td id=\"T_2fa3a8c0_0909_11eb_ab08_d46e0e11e4f5row4_col1\" class=\"data row4 col1\" >$2.90</td>\n",
       "                        <td id=\"T_2fa3a8c0_0909_11eb_ab08_d46e0e11e4f5row4_col2\" class=\"data row4 col2\" >$293.00</td>\n",
       "                        <td id=\"T_2fa3a8c0_0909_11eb_ab08_d46e0e11e4f5row4_col3\" class=\"data row4 col3\" >50.868056</td>\n",
       "            </tr>\n",
       "            <tr>\n",
       "                        <th id=\"T_2fa3a8c0_0909_11eb_ab08_d46e0e11e4f5level0_row5\" class=\"row_heading level0 row5\" >30-34</th>\n",
       "                        <td id=\"T_2fa3a8c0_0909_11eb_ab08_d46e0e11e4f5row5_col0\" class=\"data row5 col0\" >73</td>\n",
       "                        <td id=\"T_2fa3a8c0_0909_11eb_ab08_d46e0e11e4f5row5_col1\" class=\"data row5 col1\" >$2.93</td>\n",
       "                        <td id=\"T_2fa3a8c0_0909_11eb_ab08_d46e0e11e4f5row5_col2\" class=\"data row5 col2\" >$214.00</td>\n",
       "                        <td id=\"T_2fa3a8c0_0909_11eb_ab08_d46e0e11e4f5row5_col3\" class=\"data row5 col3\" >37.152778</td>\n",
       "            </tr>\n",
       "            <tr>\n",
       "                        <th id=\"T_2fa3a8c0_0909_11eb_ab08_d46e0e11e4f5level0_row6\" class=\"row_heading level0 row6\" >35-39</th>\n",
       "                        <td id=\"T_2fa3a8c0_0909_11eb_ab08_d46e0e11e4f5row6_col0\" class=\"data row6 col0\" >41</td>\n",
       "                        <td id=\"T_2fa3a8c0_0909_11eb_ab08_d46e0e11e4f5row6_col1\" class=\"data row6 col1\" >$3.60</td>\n",
       "                        <td id=\"T_2fa3a8c0_0909_11eb_ab08_d46e0e11e4f5row6_col2\" class=\"data row6 col2\" >$147.67</td>\n",
       "                        <td id=\"T_2fa3a8c0_0909_11eb_ab08_d46e0e11e4f5row6_col3\" class=\"data row6 col3\" >25.637153</td>\n",
       "            </tr>\n",
       "            <tr>\n",
       "                        <th id=\"T_2fa3a8c0_0909_11eb_ab08_d46e0e11e4f5level0_row7\" class=\"row_heading level0 row7\" >40+</th>\n",
       "                        <td id=\"T_2fa3a8c0_0909_11eb_ab08_d46e0e11e4f5row7_col0\" class=\"data row7 col0\" >13</td>\n",
       "                        <td id=\"T_2fa3a8c0_0909_11eb_ab08_d46e0e11e4f5row7_col1\" class=\"data row7 col1\" >$2.94</td>\n",
       "                        <td id=\"T_2fa3a8c0_0909_11eb_ab08_d46e0e11e4f5row7_col2\" class=\"data row7 col2\" >$38.24</td>\n",
       "                        <td id=\"T_2fa3a8c0_0909_11eb_ab08_d46e0e11e4f5row7_col3\" class=\"data row7 col3\" >6.638889</td>\n",
       "            </tr>\n",
       "    </tbody></table>"
      ],
      "text/plain": [
       "<pandas.io.formats.style.Styler at 0x1f3adbaf820>"
      ]
     },
     "execution_count": 45,
     "metadata": {},
     "output_type": "execute_result"
    }
   ],
   "source": [
    "# Purchase Analysis (Age)\n",
    "purchase_count_age = age_grouped[\"Purchase ID\"].count()\n",
    "\n",
    "avg_purchase_price_age = age_grouped[\"Price\"].mean()\n",
    "\n",
    "total_purchase_value = age_grouped[\"Price\"].sum()\n",
    "\n",
    "avg_total_purchase_per_person = total_purchase_value/player_count * 100\n",
    "\n",
    "summary_table_age = pd.DataFrame({ \"Purchase Count\": purchase_count_age,\n",
    "                                 \"Average Purchase Price\": avg_purchase_price_age,\n",
    "                                 \"Total Purchase Value\": total_purchase_value,\n",
    "                                 \"Average Total Purchase per Person\": avg_total_purchase_per_person\n",
    "                                 })\n",
    "summary_table_age.style.format({\"Average Purchase Price\": \"${:,.2f}\",\n",
    "                                 \"Total Purchase Value\": \"${:,.2f}\",\n",
    "                                                                  })"
   ]
  },
  {
   "cell_type": "code",
   "execution_count": 51,
   "metadata": {},
   "outputs": [
    {
     "data": {
      "text/html": [
       "<style  type=\"text/css\" >\n",
       "</style><table id=\"T_0c5acbd3_090a_11eb_bf41_d46e0e11e4f5\" ><thead>    <tr>        <th class=\"blank level0\" ></th>        <th class=\"col_heading level0 col0\" >Purchase Count</th>        <th class=\"col_heading level0 col1\" >Average Purchase Price</th>        <th class=\"col_heading level0 col2\" >Total Purchase Value</th>        <th class=\"col_heading level0 col3\" >Average Total per Person</th>    </tr>    <tr>        <th class=\"index_name level0\" >Gender</th>        <th class=\"blank\" ></th>        <th class=\"blank\" ></th>        <th class=\"blank\" ></th>        <th class=\"blank\" ></th>    </tr></thead><tbody>\n",
       "                <tr>\n",
       "                        <th id=\"T_0c5acbd3_090a_11eb_bf41_d46e0e11e4f5level0_row0\" class=\"row_heading level0 row0\" >Female</th>\n",
       "                        <td id=\"T_0c5acbd3_090a_11eb_bf41_d46e0e11e4f5row0_col0\" class=\"data row0 col0\" >113</td>\n",
       "                        <td id=\"T_0c5acbd3_090a_11eb_bf41_d46e0e11e4f5row0_col1\" class=\"data row0 col1\" >$3.20</td>\n",
       "                        <td id=\"T_0c5acbd3_090a_11eb_bf41_d46e0e11e4f5row0_col2\" class=\"data row0 col2\" >$361.94</td>\n",
       "                        <td id=\"T_0c5acbd3_090a_11eb_bf41_d46e0e11e4f5row0_col3\" class=\"data row0 col3\" >$3.20</td>\n",
       "            </tr>\n",
       "            <tr>\n",
       "                        <th id=\"T_0c5acbd3_090a_11eb_bf41_d46e0e11e4f5level0_row1\" class=\"row_heading level0 row1\" >Male</th>\n",
       "                        <td id=\"T_0c5acbd3_090a_11eb_bf41_d46e0e11e4f5row1_col0\" class=\"data row1 col0\" >652</td>\n",
       "                        <td id=\"T_0c5acbd3_090a_11eb_bf41_d46e0e11e4f5row1_col1\" class=\"data row1 col1\" >$3.02</td>\n",
       "                        <td id=\"T_0c5acbd3_090a_11eb_bf41_d46e0e11e4f5row1_col2\" class=\"data row1 col2\" >$1,967.64</td>\n",
       "                        <td id=\"T_0c5acbd3_090a_11eb_bf41_d46e0e11e4f5row1_col3\" class=\"data row1 col3\" >$3.02</td>\n",
       "            </tr>\n",
       "            <tr>\n",
       "                        <th id=\"T_0c5acbd3_090a_11eb_bf41_d46e0e11e4f5level0_row2\" class=\"row_heading level0 row2\" >Other / Non-Disclosed</th>\n",
       "                        <td id=\"T_0c5acbd3_090a_11eb_bf41_d46e0e11e4f5row2_col0\" class=\"data row2 col0\" >15</td>\n",
       "                        <td id=\"T_0c5acbd3_090a_11eb_bf41_d46e0e11e4f5row2_col1\" class=\"data row2 col1\" >$3.35</td>\n",
       "                        <td id=\"T_0c5acbd3_090a_11eb_bf41_d46e0e11e4f5row2_col2\" class=\"data row2 col2\" >$50.19</td>\n",
       "                        <td id=\"T_0c5acbd3_090a_11eb_bf41_d46e0e11e4f5row2_col3\" class=\"data row2 col3\" >$3.35</td>\n",
       "            </tr>\n",
       "    </tbody></table>"
      ],
      "text/plain": [
       "<pandas.io.formats.style.Styler at 0x1f3adb6e190>"
      ]
     },
     "execution_count": 51,
     "metadata": {},
     "output_type": "execute_result"
    }
   ],
   "source": [
    "#Purchasing Analysis (Gender)\n",
    "purchase_count = pyMoli_df.groupby([\"Gender\"]).count()[\"Price\"]\n",
    "avg_purchase_price = pyMoli_df.groupby([\"Gender\"]).mean()[\"Price\"]\n",
    "total_purchase_value = pyMoli_df.groupby([\"Gender\"]).sum()[\"Price\"]\n",
    "avg_total_person = (total_purchase_value / purchase_count) \n",
    "\n",
    "summary_table_purchasing = pd.DataFrame({\"Purchase Count\": purchase_count, \"Average Purchase Price\": avg_purchase_price, \"Total Purchase Value\": total_purchase_value, \"Average Total per Person\": avg_total_person})\n",
    "summary_table_purchasing.style.format({\"Average Purchase Price\": \"${:,.2f}\",\n",
    "                                      \"Total Purchase Value\": \"${:,.2f}\",\n",
    "                                      \"Average Total per Person\": \"${:,.2f}\"\n",
    "                                      })"
   ]
  },
  {
   "cell_type": "code",
   "execution_count": 53,
   "metadata": {},
   "outputs": [
    {
     "data": {
      "text/html": [
       "<style  type=\"text/css\" >\n",
       "</style><table id=\"T_a00005c9_090a_11eb_b135_d46e0e11e4f5\" ><thead>    <tr>        <th class=\"blank level0\" ></th>        <th class=\"col_heading level0 col0\" >Purchase Count</th>        <th class=\"col_heading level0 col1\" >Average Purchase Price</th>        <th class=\"col_heading level0 col2\" >Total Purchase Value</th>    </tr>    <tr>        <th class=\"index_name level0\" >SN</th>        <th class=\"blank\" ></th>        <th class=\"blank\" ></th>        <th class=\"blank\" ></th>    </tr></thead><tbody>\n",
       "                <tr>\n",
       "                        <th id=\"T_a00005c9_090a_11eb_b135_d46e0e11e4f5level0_row0\" class=\"row_heading level0 row0\" >Lisosia93</th>\n",
       "                        <td id=\"T_a00005c9_090a_11eb_b135_d46e0e11e4f5row0_col0\" class=\"data row0 col0\" >5</td>\n",
       "                        <td id=\"T_a00005c9_090a_11eb_b135_d46e0e11e4f5row0_col1\" class=\"data row0 col1\" >$3.79</td>\n",
       "                        <td id=\"T_a00005c9_090a_11eb_b135_d46e0e11e4f5row0_col2\" class=\"data row0 col2\" >$18.96</td>\n",
       "            </tr>\n",
       "            <tr>\n",
       "                        <th id=\"T_a00005c9_090a_11eb_b135_d46e0e11e4f5level0_row1\" class=\"row_heading level0 row1\" >Idastidru52</th>\n",
       "                        <td id=\"T_a00005c9_090a_11eb_b135_d46e0e11e4f5row1_col0\" class=\"data row1 col0\" >4</td>\n",
       "                        <td id=\"T_a00005c9_090a_11eb_b135_d46e0e11e4f5row1_col1\" class=\"data row1 col1\" >$3.86</td>\n",
       "                        <td id=\"T_a00005c9_090a_11eb_b135_d46e0e11e4f5row1_col2\" class=\"data row1 col2\" >$15.45</td>\n",
       "            </tr>\n",
       "            <tr>\n",
       "                        <th id=\"T_a00005c9_090a_11eb_b135_d46e0e11e4f5level0_row2\" class=\"row_heading level0 row2\" >Chamjask73</th>\n",
       "                        <td id=\"T_a00005c9_090a_11eb_b135_d46e0e11e4f5row2_col0\" class=\"data row2 col0\" >3</td>\n",
       "                        <td id=\"T_a00005c9_090a_11eb_b135_d46e0e11e4f5row2_col1\" class=\"data row2 col1\" >$4.61</td>\n",
       "                        <td id=\"T_a00005c9_090a_11eb_b135_d46e0e11e4f5row2_col2\" class=\"data row2 col2\" >$13.83</td>\n",
       "            </tr>\n",
       "            <tr>\n",
       "                        <th id=\"T_a00005c9_090a_11eb_b135_d46e0e11e4f5level0_row3\" class=\"row_heading level0 row3\" >Iral74</th>\n",
       "                        <td id=\"T_a00005c9_090a_11eb_b135_d46e0e11e4f5row3_col0\" class=\"data row3 col0\" >4</td>\n",
       "                        <td id=\"T_a00005c9_090a_11eb_b135_d46e0e11e4f5row3_col1\" class=\"data row3 col1\" >$3.40</td>\n",
       "                        <td id=\"T_a00005c9_090a_11eb_b135_d46e0e11e4f5row3_col2\" class=\"data row3 col2\" >$13.62</td>\n",
       "            </tr>\n",
       "            <tr>\n",
       "                        <th id=\"T_a00005c9_090a_11eb_b135_d46e0e11e4f5level0_row4\" class=\"row_heading level0 row4\" >Iskadarya95</th>\n",
       "                        <td id=\"T_a00005c9_090a_11eb_b135_d46e0e11e4f5row4_col0\" class=\"data row4 col0\" >3</td>\n",
       "                        <td id=\"T_a00005c9_090a_11eb_b135_d46e0e11e4f5row4_col1\" class=\"data row4 col1\" >$4.37</td>\n",
       "                        <td id=\"T_a00005c9_090a_11eb_b135_d46e0e11e4f5row4_col2\" class=\"data row4 col2\" >$13.10</td>\n",
       "            </tr>\n",
       "    </tbody></table>"
      ],
      "text/plain": [
       "<pandas.io.formats.style.Styler at 0x1f3adbaff40>"
      ]
     },
     "execution_count": 53,
     "metadata": {},
     "output_type": "execute_result"
    }
   ],
   "source": [
    "# Top spenders\n",
    "spend_rank = pyMoli_df.groupby(\"SN\")\n",
    "\n",
    "purchase_count_rank = spend_rank[\"Purchase ID\"].count()\n",
    "\n",
    "avg_purchase_price_rank = spend_rank[\"Price\"].mean()\n",
    "\n",
    "total_purchase_price_rank = spend_rank[\"Price\"].sum()\n",
    "\n",
    "summary_table_rank = pd.DataFrame({\"Purchase Count\": purchase_count_rank,\n",
    "                                  \"Average Purchase Price\": avg_purchase_price_rank,\n",
    "                                  \"Total Purchase Value\": total_purchase_price_rank\n",
    "                                  })\n",
    "formatted_table = summary_table_rank.sort_values([\"Total Purchase Value\"], ascending=False).head()\n",
    "\n",
    "formatted_table.style.format({\"Average Purchase Price\":\"${:,.2f}\",\n",
    "                             \"Total Purchase Value\": \"${:,.2f}\"})"
   ]
  },
  {
   "cell_type": "code",
   "execution_count": 54,
   "metadata": {},
   "outputs": [
    {
     "data": {
      "text/html": [
       "<style  type=\"text/css\" >\n",
       "</style><table id=\"T_dabacdf1_090a_11eb_8a99_d46e0e11e4f5\" ><thead>    <tr>        <th class=\"blank\" ></th>        <th class=\"blank level0\" ></th>        <th class=\"col_heading level0 col0\" >Purchase Count</th>        <th class=\"col_heading level0 col1\" >Item Price</th>        <th class=\"col_heading level0 col2\" >Total Purchase Value</th>    </tr>    <tr>        <th class=\"index_name level0\" >Item ID</th>        <th class=\"index_name level1\" >Item Name</th>        <th class=\"blank\" ></th>        <th class=\"blank\" ></th>        <th class=\"blank\" ></th>    </tr></thead><tbody>\n",
       "                <tr>\n",
       "                        <th id=\"T_dabacdf1_090a_11eb_8a99_d46e0e11e4f5level0_row0\" class=\"row_heading level0 row0\" >92</th>\n",
       "                        <th id=\"T_dabacdf1_090a_11eb_8a99_d46e0e11e4f5level1_row0\" class=\"row_heading level1 row0\" >Final Critic</th>\n",
       "                        <td id=\"T_dabacdf1_090a_11eb_8a99_d46e0e11e4f5row0_col0\" class=\"data row0 col0\" >13</td>\n",
       "                        <td id=\"T_dabacdf1_090a_11eb_8a99_d46e0e11e4f5row0_col1\" class=\"data row0 col1\" >$4.61</td>\n",
       "                        <td id=\"T_dabacdf1_090a_11eb_8a99_d46e0e11e4f5row0_col2\" class=\"data row0 col2\" >$59.99</td>\n",
       "            </tr>\n",
       "            <tr>\n",
       "                        <th id=\"T_dabacdf1_090a_11eb_8a99_d46e0e11e4f5level0_row1\" class=\"row_heading level0 row1\" >178</th>\n",
       "                        <th id=\"T_dabacdf1_090a_11eb_8a99_d46e0e11e4f5level1_row1\" class=\"row_heading level1 row1\" >Oathbreaker, Last Hope of the Breaking Storm</th>\n",
       "                        <td id=\"T_dabacdf1_090a_11eb_8a99_d46e0e11e4f5row1_col0\" class=\"data row1 col0\" >12</td>\n",
       "                        <td id=\"T_dabacdf1_090a_11eb_8a99_d46e0e11e4f5row1_col1\" class=\"data row1 col1\" >$4.23</td>\n",
       "                        <td id=\"T_dabacdf1_090a_11eb_8a99_d46e0e11e4f5row1_col2\" class=\"data row1 col2\" >$50.76</td>\n",
       "            </tr>\n",
       "            <tr>\n",
       "                        <th id=\"T_dabacdf1_090a_11eb_8a99_d46e0e11e4f5level0_row2\" class=\"row_heading level0 row2\" >145</th>\n",
       "                        <th id=\"T_dabacdf1_090a_11eb_8a99_d46e0e11e4f5level1_row2\" class=\"row_heading level1 row2\" >Fiery Glass Crusader</th>\n",
       "                        <td id=\"T_dabacdf1_090a_11eb_8a99_d46e0e11e4f5row2_col0\" class=\"data row2 col0\" >9</td>\n",
       "                        <td id=\"T_dabacdf1_090a_11eb_8a99_d46e0e11e4f5row2_col1\" class=\"data row2 col1\" >$4.58</td>\n",
       "                        <td id=\"T_dabacdf1_090a_11eb_8a99_d46e0e11e4f5row2_col2\" class=\"data row2 col2\" >$41.22</td>\n",
       "            </tr>\n",
       "            <tr>\n",
       "                        <th id=\"T_dabacdf1_090a_11eb_8a99_d46e0e11e4f5level0_row3\" class=\"row_heading level0 row3\" >132</th>\n",
       "                        <th id=\"T_dabacdf1_090a_11eb_8a99_d46e0e11e4f5level1_row3\" class=\"row_heading level1 row3\" >Persuasion</th>\n",
       "                        <td id=\"T_dabacdf1_090a_11eb_8a99_d46e0e11e4f5row3_col0\" class=\"data row3 col0\" >9</td>\n",
       "                        <td id=\"T_dabacdf1_090a_11eb_8a99_d46e0e11e4f5row3_col1\" class=\"data row3 col1\" >$3.22</td>\n",
       "                        <td id=\"T_dabacdf1_090a_11eb_8a99_d46e0e11e4f5row3_col2\" class=\"data row3 col2\" >$28.99</td>\n",
       "            </tr>\n",
       "            <tr>\n",
       "                        <th id=\"T_dabacdf1_090a_11eb_8a99_d46e0e11e4f5level0_row4\" class=\"row_heading level0 row4\" >108</th>\n",
       "                        <th id=\"T_dabacdf1_090a_11eb_8a99_d46e0e11e4f5level1_row4\" class=\"row_heading level1 row4\" >Extraction, Quickblade Of Trembling Hands</th>\n",
       "                        <td id=\"T_dabacdf1_090a_11eb_8a99_d46e0e11e4f5row4_col0\" class=\"data row4 col0\" >9</td>\n",
       "                        <td id=\"T_dabacdf1_090a_11eb_8a99_d46e0e11e4f5row4_col1\" class=\"data row4 col1\" >$3.53</td>\n",
       "                        <td id=\"T_dabacdf1_090a_11eb_8a99_d46e0e11e4f5row4_col2\" class=\"data row4 col2\" >$31.77</td>\n",
       "            </tr>\n",
       "    </tbody></table>"
      ],
      "text/plain": [
       "<pandas.io.formats.style.Styler at 0x1f3aec34850>"
      ]
     },
     "execution_count": 54,
     "metadata": {},
     "output_type": "execute_result"
    }
   ],
   "source": [
    "# sort most popular item\n",
    "items = pyMoli_df[[\"Item ID\", \"Item Name\", \"Price\"]]\n",
    "item_rank = items.groupby([\"Item ID\", \"Item Name\"])\n",
    "\n",
    "purchase_count_item = item_rank[\"Price\"].count()\n",
    "\n",
    "item_Price = item_rank[\"Price\"].count()\n",
    "total_purchase_value = (item_rank[\"Price\"].sum())\n",
    "item_price = total_purchase_value/purchase_count_item\n",
    "\n",
    "most_popular_item = pd.DataFrame({ \"Purchase Count\": purchase_count_item,\n",
    "                                 \"Item Price\": item_price,\n",
    "                                 \"Total Purchase Value\": total_purchase_value\n",
    "                                 })\n",
    "formatted_table_items = most_popular_item.sort_values([\"Purchase Count\"], ascending=False).head()\n",
    "\n",
    "formatted_table_items.style.format({\"Item Price\": \"${:,.2f}\",\n",
    "                                   \"Total Purchase Value\": \"${:,.2f}\"})\n",
    "\n",
    "\n",
    "\n"
   ]
  },
  {
   "cell_type": "code",
   "execution_count": 57,
   "metadata": {},
   "outputs": [
    {
     "data": {
      "text/html": [
       "<style  type=\"text/css\" >\n",
       "</style><table id=\"T_087e8e29_090b_11eb_818c_d46e0e11e4f5\" ><thead>    <tr>        <th class=\"blank\" ></th>        <th class=\"blank level0\" ></th>        <th class=\"col_heading level0 col0\" >Purchase Count</th>        <th class=\"col_heading level0 col1\" >Item Price</th>        <th class=\"col_heading level0 col2\" >Total Purchase Value</th>    </tr>    <tr>        <th class=\"index_name level0\" >Item ID</th>        <th class=\"index_name level1\" >Item Name</th>        <th class=\"blank\" ></th>        <th class=\"blank\" ></th>        <th class=\"blank\" ></th>    </tr></thead><tbody>\n",
       "                <tr>\n",
       "                        <th id=\"T_087e8e29_090b_11eb_818c_d46e0e11e4f5level0_row0\" class=\"row_heading level0 row0\" >92</th>\n",
       "                        <th id=\"T_087e8e29_090b_11eb_818c_d46e0e11e4f5level1_row0\" class=\"row_heading level1 row0\" >Final Critic</th>\n",
       "                        <td id=\"T_087e8e29_090b_11eb_818c_d46e0e11e4f5row0_col0\" class=\"data row0 col0\" >13</td>\n",
       "                        <td id=\"T_087e8e29_090b_11eb_818c_d46e0e11e4f5row0_col1\" class=\"data row0 col1\" >$4.61</td>\n",
       "                        <td id=\"T_087e8e29_090b_11eb_818c_d46e0e11e4f5row0_col2\" class=\"data row0 col2\" >$59.99</td>\n",
       "            </tr>\n",
       "            <tr>\n",
       "                        <th id=\"T_087e8e29_090b_11eb_818c_d46e0e11e4f5level0_row1\" class=\"row_heading level0 row1\" >178</th>\n",
       "                        <th id=\"T_087e8e29_090b_11eb_818c_d46e0e11e4f5level1_row1\" class=\"row_heading level1 row1\" >Oathbreaker, Last Hope of the Breaking Storm</th>\n",
       "                        <td id=\"T_087e8e29_090b_11eb_818c_d46e0e11e4f5row1_col0\" class=\"data row1 col0\" >12</td>\n",
       "                        <td id=\"T_087e8e29_090b_11eb_818c_d46e0e11e4f5row1_col1\" class=\"data row1 col1\" >$4.23</td>\n",
       "                        <td id=\"T_087e8e29_090b_11eb_818c_d46e0e11e4f5row1_col2\" class=\"data row1 col2\" >$50.76</td>\n",
       "            </tr>\n",
       "            <tr>\n",
       "                        <th id=\"T_087e8e29_090b_11eb_818c_d46e0e11e4f5level0_row2\" class=\"row_heading level0 row2\" >82</th>\n",
       "                        <th id=\"T_087e8e29_090b_11eb_818c_d46e0e11e4f5level1_row2\" class=\"row_heading level1 row2\" >Nirvana</th>\n",
       "                        <td id=\"T_087e8e29_090b_11eb_818c_d46e0e11e4f5row2_col0\" class=\"data row2 col0\" >9</td>\n",
       "                        <td id=\"T_087e8e29_090b_11eb_818c_d46e0e11e4f5row2_col1\" class=\"data row2 col1\" >$4.90</td>\n",
       "                        <td id=\"T_087e8e29_090b_11eb_818c_d46e0e11e4f5row2_col2\" class=\"data row2 col2\" >$44.10</td>\n",
       "            </tr>\n",
       "            <tr>\n",
       "                        <th id=\"T_087e8e29_090b_11eb_818c_d46e0e11e4f5level0_row3\" class=\"row_heading level0 row3\" >145</th>\n",
       "                        <th id=\"T_087e8e29_090b_11eb_818c_d46e0e11e4f5level1_row3\" class=\"row_heading level1 row3\" >Fiery Glass Crusader</th>\n",
       "                        <td id=\"T_087e8e29_090b_11eb_818c_d46e0e11e4f5row3_col0\" class=\"data row3 col0\" >9</td>\n",
       "                        <td id=\"T_087e8e29_090b_11eb_818c_d46e0e11e4f5row3_col1\" class=\"data row3 col1\" >$4.58</td>\n",
       "                        <td id=\"T_087e8e29_090b_11eb_818c_d46e0e11e4f5row3_col2\" class=\"data row3 col2\" >$41.22</td>\n",
       "            </tr>\n",
       "            <tr>\n",
       "                        <th id=\"T_087e8e29_090b_11eb_818c_d46e0e11e4f5level0_row4\" class=\"row_heading level0 row4\" >103</th>\n",
       "                        <th id=\"T_087e8e29_090b_11eb_818c_d46e0e11e4f5level1_row4\" class=\"row_heading level1 row4\" >Singed Scalpel</th>\n",
       "                        <td id=\"T_087e8e29_090b_11eb_818c_d46e0e11e4f5row4_col0\" class=\"data row4 col0\" >8</td>\n",
       "                        <td id=\"T_087e8e29_090b_11eb_818c_d46e0e11e4f5row4_col1\" class=\"data row4 col1\" >$4.35</td>\n",
       "                        <td id=\"T_087e8e29_090b_11eb_818c_d46e0e11e4f5row4_col2\" class=\"data row4 col2\" >$34.80</td>\n",
       "            </tr>\n",
       "    </tbody></table>"
      ],
      "text/plain": [
       "<pandas.io.formats.style.Styler at 0x1f3aee7df40>"
      ]
     },
     "execution_count": 57,
     "metadata": {},
     "output_type": "execute_result"
    }
   ],
   "source": [
    "# sort most profitable items\n",
    "popular_formatted = most_popular_item.sort_values([\"Total Purchase Value\"],\n",
    "                                                  ascending=False).head()\n",
    "popular_formatted.style.format({\"Total Purchase Value\": \"${:,.2f}\",\n",
    "                               \"Item Price\": \"${:,.2f}\"})\n"
   ]
  },
  {
   "cell_type": "code",
   "execution_count": null,
   "metadata": {},
   "outputs": [],
   "source": [
    "# We can deduce a few conclusions from this data\n",
    "# firstly, The primary demographics is male, ages 20-24\n",
    "# Final Critic is the most popular weapon and has a net revenue of $59.99\n",
    "# Final Critic is also the most profitable item."
   ]
  }
 ],
 "metadata": {
  "kernelspec": {
   "display_name": "Python 3",
   "language": "python",
   "name": "python3"
  },
  "language_info": {
   "codemirror_mode": {
    "name": "ipython",
    "version": 3
   },
   "file_extension": ".py",
   "mimetype": "text/x-python",
   "name": "python",
   "nbconvert_exporter": "python",
   "pygments_lexer": "ipython3",
   "version": "3.8.3"
  }
 },
 "nbformat": 4,
 "nbformat_minor": 4
}
